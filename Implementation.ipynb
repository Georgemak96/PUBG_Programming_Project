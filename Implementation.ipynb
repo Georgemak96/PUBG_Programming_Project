{
 "cells": [
  {
   "cell_type": "markdown",
   "metadata": {
    "slideshow": {
     "slide_type": "slide"
    }
   },
   "source": [
    "### Data\n",
    "The data repository contains the following files:\n",
    "\n",
    "* `cheaters.txt` – contains cheaters who played between March 1 and March 10, 2019\n",
    "    1. player account id\n",
    "    2. estimated date when the player started cheating\n",
    "    3. date when the player's account was banned due to cheating\n",
    "\n",
    "\n",
    "* `kills.txt` – contains the killings done in 6,000 randomly selected matches played between March 1 and March 10, 2019\n",
    "    1. match id \n",
    "    2. account id of the killer\n",
    "    3. account id of the player who got killed\n",
    "    4. time when the kill happened\n",
    " \n",
    " \n",
    "* `team_ids.txt` – contains the team ids for players in 5,419 team-play matches in the same period. If a match from the kills.txt file does not appear in these data, we will assume that it was in single-player mode.  \n",
    "    1. match id \n",
    "    2. player account id\n",
    "    3. team id in match"
   ]
  },
  {
   "cell_type": "markdown",
   "metadata": {},
   "source": [
    "## Import and run code here"
   ]
  },
  {
   "cell_type": "code",
   "execution_count": 1,
   "metadata": {},
   "outputs": [],
   "source": [
    "import team_distribution\n",
    "import victim_cheating_analysis\n",
    "import observer_cheating_analysis"
   ]
  },
  {
   "cell_type": "markdown",
   "metadata": {},
   "source": [
    "### 1. Do cheaters team up?"
   ]
  },
  {
   "cell_type": "code",
   "execution_count": 2,
   "metadata": {},
   "outputs": [
    {
     "name": "stdout",
     "output_type": "stream",
     "text": [
      "REAL WORLD SCENARIO:\n",
      " Teams with 0 cheaters:  170782\n",
      " Teams with 1 cheater:   3199\n",
      " Teams with 2 cheaters:  182\n",
      " Teams with 3 cheaters:  9\n",
      " Teams with 4 cheaters: 2\n",
      "\n",
      "RANDOMIZED WORLDS SCENARIO:\n",
      " Teams with 0 cheaters: 170609.85, 95% CI: [170607.55, 170612.15]\n",
      " Teams with 1 cheaters: 3530.60, 95% CI: [3525.98, 3535.22]\n",
      " Teams with 2 cheaters: 33.25, 95% CI: [30.87, 35.63]\n",
      " Teams with 3 cheaters: 0.30, 95% CI: [0.10, 0.50]\n",
      " Teams with 4 cheaters: 0.00, 95% CI: [0.00, 0.00]\n"
     ]
    }
   ],
   "source": [
    "team_distribution.main(\"../data/team_ids.txt\",\"../data/cheaters.txt\",20)"
   ]
  },
  {
   "cell_type": "markdown",
   "metadata": {},
   "source": [
    "### 2. Do victims of cheating start cheating?"
   ]
  },
  {
   "cell_type": "code",
   "execution_count": 3,
   "metadata": {},
   "outputs": [
    {
     "name": "stdout",
     "output_type": "stream",
     "text": [
      "REAL WORLD SCENARIO\n",
      "Victims who begin cheating after being killed by an already-active cheater: 47\n",
      "\n",
      "RANDOMIZED WORLDS SCENARIO\n",
      "Expected count = 14.45, 95% CI = [12.93, 15.97]\n"
     ]
    }
   ],
   "source": [
    "victim_cheating_analysis.main(\"../data/kills.txt\",\"../data/cheaters.txt\",20)"
   ]
  },
  {
   "cell_type": "markdown",
   "metadata": {},
   "source": [
    "### 3. Do observers of cheating start cheating?"
   ]
  },
  {
   "cell_type": "code",
   "execution_count": 4,
   "metadata": {},
   "outputs": [
    {
     "name": "stdout",
     "output_type": "stream",
     "text": [
      "REAL WORLD SCENARIO\n",
      "Observers of cheaters who later cheat: 213\n",
      "\n",
      "RANDOMIZED WORLDS SCENARIO\n",
      "On average 43.90 observers later cheat, with 95% CI=(41.11, 46.69)\n"
     ]
    }
   ],
   "source": [
    "observer_cheating_analysis.main(\"../data/kills.txt\",\"../data/cheaters.txt\",20)"
   ]
  }
 ],
 "metadata": {
  "kernelspec": {
   "display_name": "base",
   "language": "python",
   "name": "python3"
  },
  "language_info": {
   "codemirror_mode": {
    "name": "ipython",
    "version": 3
   },
   "file_extension": ".py",
   "mimetype": "text/x-python",
   "name": "python",
   "nbconvert_exporter": "python",
   "pygments_lexer": "ipython3",
   "version": "3.12.3"
  }
 },
 "nbformat": 4,
 "nbformat_minor": 2
}
